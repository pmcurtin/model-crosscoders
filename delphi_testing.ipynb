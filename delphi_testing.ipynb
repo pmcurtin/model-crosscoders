{
 "cells": [
  {
   "cell_type": "code",
   "execution_count": 1,
   "metadata": {},
   "outputs": [
    {
     "name": "stderr",
     "output_type": "stream",
     "text": [
      "/users/pcurtin1/model-crosscoders/.venv/lib/python3.12/site-packages/tqdm/auto.py:21: TqdmWarning: IProgress not found. Please update jupyter and ipywidgets. See https://ipywidgets.readthedocs.io/en/stable/user_install.html\n",
      "  from .autonotebook import tqdm as notebook_tqdm\n"
     ]
    }
   ],
   "source": [
    "from transformers import AutoModel, AutoTokenizer\n",
    "from transformer_lens import HookedTransformer\n",
    "from typing import Callable\n",
    "import delphi\n",
    "import torch\n",
    "from models import CrossCoder\n",
    "import torch.nn.functional as F\n",
    "from delphi.config import RunConfig"
   ]
  },
  {
   "cell_type": "code",
   "execution_count": 2,
   "metadata": {},
   "outputs": [
    {
     "name": "stderr",
     "output_type": "stream",
     "text": [
      "Sliding Window Attention is enabled but not implemented for `sdpa`; unexpected results may be encountered.\n",
      "WARNING:root:With reduced precision, it is advised to use `from_pretrained_no_processing` instead of `from_pretrained`.\n",
      "WARNING:root:You are not using LayerNorm, so the writing weights can't be centered! Skipping\n"
     ]
    },
    {
     "name": "stdout",
     "output_type": "stream",
     "text": [
      "Loaded pretrained model Qwen/Qwen2.5-0.5B into HookedTransformer\n"
     ]
    },
    {
     "name": "stderr",
     "output_type": "stream",
     "text": [
      "WARNING:root:With reduced precision, it is advised to use `from_pretrained_no_processing` instead of `from_pretrained`.\n",
      "WARNING:root:You are not using LayerNorm, so the writing weights can't be centered! Skipping\n"
     ]
    },
    {
     "name": "stdout",
     "output_type": "stream",
     "text": [
      "Loaded pretrained model Qwen/Qwen2.5-0.5B-Instruct into HookedTransformer\n"
     ]
    }
   ],
   "source": [
    "model_a_str = \"Qwen/Qwen2.5-0.5B\"\n",
    "model_b_str = \"Qwen/Qwen2.5-0.5B-Instruct\"\n",
    "\n",
    "tokenizer_a = AutoTokenizer.from_pretrained(model_a_str)\n",
    "tokenizer_b = AutoTokenizer.from_pretrained(model_b_str)\n",
    "\n",
    "modelA = HookedTransformer.from_pretrained(\n",
    "    model_a_str, tokenizer=tokenizer_a, dtype=\"bfloat16\"\n",
    ")\n",
    "modelB = HookedTransformer.from_pretrained(\n",
    "    model_b_str, tokenizer=tokenizer_b, dtype=\"bfloat16\"\n",
    ")"
   ]
  },
  {
   "cell_type": "code",
   "execution_count": 3,
   "metadata": {},
   "outputs": [],
   "source": [
    "coder = CrossCoder.load(\"9\", modelA=modelA, modelB=modelB, path=\"models/some_model/version_1\")"
   ]
  },
  {
   "cell_type": "code",
   "execution_count": 4,
   "metadata": {},
   "outputs": [],
   "source": [
    "W_enc = coder.encoder.data\n",
    "W_enc = W_enc.reshape(-1, 2, W_enc.shape[1])\n",
    "b_enc = coder.encoder_bias.data"
   ]
  },
  {
   "cell_type": "code",
   "execution_count": 5,
   "metadata": {},
   "outputs": [
    {
     "data": {
      "text/plain": [
       "torch.Size([896, 2, 32768])"
      ]
     },
     "execution_count": 5,
     "metadata": {},
     "output_type": "execute_result"
    }
   ],
   "source": [
    "W_enc.shape"
   ]
  },
  {
   "cell_type": "code",
   "execution_count": 6,
   "metadata": {},
   "outputs": [],
   "source": [
    "model_path = \"models/some_model/version_1\"\n",
    "name = \"9\"\n",
    "layer=18\n",
    "\n",
    "\n",
    "def override_load_hooks_sparse_coders(model: AutoModel, cfg: RunConfig, compile: bool = False) -> tuple[dict[str, Callable], bool]:\n",
    "\n",
    "    coder = CrossCoder.load(\n",
    "        name, modelA=modelA, modelB=modelB, path=model_path\n",
    "    )\n",
    "\n",
    "    W_enc = coder.encoder.data\n",
    "    W_enc = W_enc.reshape(-1, 2, W_enc.shape[1])\n",
    "    b_enc = coder.encoder_bias.data\n",
    "\n",
    "    def encode(x): \n",
    "\n",
    "        return F.relu(coder.topk_constraint(\n",
    "            x @ W_enc + b_enc\n",
    "        ))\n",
    "\n",
    "    transcoder = False\n",
    "\n",
    "    assert len(cfg.hookpoints) == 1, \"only support one hook location\"\n",
    "\n",
    "    d = {\n",
    "        cfg.hookpoints[0]: encode\n",
    "    }\n",
    "\n",
    "    return d, transcoder"
   ]
  },
  {
   "cell_type": "code",
   "execution_count": 7,
   "metadata": {},
   "outputs": [],
   "source": [
    "from transformers import BitsAndBytesConfig\n",
    "\n",
    "def load_artifacts(run_cfg: RunConfig):\n",
    "    if run_cfg.load_in_8bit:\n",
    "        dtype = torch.float16\n",
    "    elif torch.cuda.is_bf16_supported():\n",
    "        dtype = torch.bfloat16\n",
    "    else:\n",
    "        dtype = \"auto\"\n",
    "\n",
    "    model = AutoModel.from_pretrained(\n",
    "        run_cfg.model,\n",
    "        device_map={\"\": \"cuda\"},\n",
    "        quantization_config=(\n",
    "            BitsAndBytesConfig(load_in_8bit=run_cfg.load_in_8bit)\n",
    "            if run_cfg.load_in_8bit\n",
    "            else None\n",
    "        ),\n",
    "        torch_dtype=dtype,\n",
    "        token=run_cfg.hf_token,\n",
    "    )\n",
    "\n",
    "    hookpoint_to_sparse_encode, transcode = override_load_hooks_sparse_coders(\n",
    "        model,\n",
    "        run_cfg,\n",
    "        compile=True,\n",
    "    )\n",
    "\n",
    "    return (\n",
    "        list(hookpoint_to_sparse_encode.keys()),\n",
    "        hookpoint_to_sparse_encode,\n",
    "        model,\n",
    "        transcode,\n",
    "    )\n"
   ]
  },
  {
   "cell_type": "code",
   "execution_count": 8,
   "metadata": {},
   "outputs": [
    {
     "name": "stdout",
     "output_type": "stream",
     "text": [
      "INFO 04-22 14:09:55 [__init__.py:239] Automatically detected platform cuda.\n"
     ]
    },
    {
     "name": "stderr",
     "output_type": "stream",
     "text": [
      "2025-04-22 14:09:59,220\tINFO util.py:154 -- Missing packages: ['ipywidgets']. Run `pip install -U ipywidgets`, then restart the notebook server for rich notebook output.\n"
     ]
    }
   ],
   "source": [
    "from delphi.utils import assert_type\n",
    "from pathlib import Path\n",
    "from delphi.__main__ import non_redundant_hookpoints, create_neighbours, process_cache, populate_cache, log_results\n",
    "\n",
    "async def run(\n",
    "    run_cfg: RunConfig,\n",
    "):\n",
    "    base_path = Path.cwd() / \"results\"\n",
    "    if run_cfg.name:\n",
    "        base_path = base_path / run_cfg.name\n",
    "\n",
    "    base_path.mkdir(parents=True, exist_ok=True)\n",
    "\n",
    "    run_cfg.save_json(base_path / \"run_config.json\", indent=4)\n",
    "\n",
    "    latents_path = base_path / \"latents\"\n",
    "    explanations_path = base_path / \"explanations\"\n",
    "    scores_path = base_path / \"scores\"\n",
    "    neighbours_path = base_path / \"neighbours\"\n",
    "    visualize_path = base_path / \"visualize\"\n",
    "\n",
    "    latent_range = torch.arange(run_cfg.max_latents) if run_cfg.max_latents else None\n",
    "\n",
    "    hookpoints, hookpoint_to_sparse_encode, model, transcode = load_artifacts(run_cfg)\n",
    "    tokenizer = AutoTokenizer.from_pretrained(run_cfg.model, token=run_cfg.hf_token)\n",
    "\n",
    "    nrh = assert_type(\n",
    "        dict,\n",
    "        non_redundant_hookpoints(\n",
    "            hookpoint_to_sparse_encode, latents_path, \"cache\" in run_cfg.overwrite\n",
    "        ),\n",
    "    )\n",
    "    if nrh:\n",
    "        populate_cache(\n",
    "            run_cfg,\n",
    "            model,\n",
    "            nrh,\n",
    "            latents_path,\n",
    "            tokenizer,\n",
    "            transcode,\n",
    "        )\n",
    "\n",
    "    del model, hookpoint_to_sparse_encode\n",
    "    if run_cfg.constructor_cfg.non_activating_source == \"neighbours\":\n",
    "        nrh = assert_type(\n",
    "            list,\n",
    "            non_redundant_hookpoints(\n",
    "                hookpoints, neighbours_path, \"neighbours\" in run_cfg.overwrite\n",
    "            ),\n",
    "        )\n",
    "        if nrh:\n",
    "            create_neighbours(\n",
    "                run_cfg,\n",
    "                latents_path,\n",
    "                neighbours_path,\n",
    "                nrh,\n",
    "            )\n",
    "    else:\n",
    "        print(\"Skipping neighbour creation\")\n",
    "\n",
    "    nrh = assert_type(\n",
    "        list,\n",
    "        non_redundant_hookpoints(\n",
    "            hookpoints, scores_path, \"scores\" in run_cfg.overwrite\n",
    "        ),\n",
    "    )\n",
    "    if nrh:\n",
    "        await process_cache(\n",
    "            run_cfg,\n",
    "            latents_path,\n",
    "            explanations_path,\n",
    "            scores_path,\n",
    "            nrh,\n",
    "            tokenizer,\n",
    "            latent_range,\n",
    "        )\n",
    "\n",
    "    if run_cfg.verbose:\n",
    "        log_results(scores_path, visualize_path, run_cfg.hookpoints)\n"
   ]
  },
  {
   "cell_type": "code",
   "execution_count": null,
   "metadata": {},
   "outputs": [],
   "source": []
  }
 ],
 "metadata": {
  "kernelspec": {
   "display_name": ".venv",
   "language": "python",
   "name": "python3"
  },
  "language_info": {
   "codemirror_mode": {
    "name": "ipython",
    "version": 3
   },
   "file_extension": ".py",
   "mimetype": "text/x-python",
   "name": "python",
   "nbconvert_exporter": "python",
   "pygments_lexer": "ipython3",
   "version": "3.12.7"
  }
 },
 "nbformat": 4,
 "nbformat_minor": 2
}
